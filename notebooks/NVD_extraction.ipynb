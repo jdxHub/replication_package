{
  "nbformat": 4,
  "nbformat_minor": 0,
  "metadata": {
    "colab": {
      "private_outputs": true,
      "provenance": [],
      "collapsed_sections": [
        "55BpM-nslq5u",
        "LQm1R2WRlwP0"
      ]
    },
    "kernelspec": {
      "name": "python3",
      "display_name": "Python 3"
    },
    "language_info": {
      "name": "python"
    }
  },
  "cells": [
    {
      "cell_type": "markdown",
      "source": [
        "##NVD extraction"
      ],
      "metadata": {
        "id": "55BpM-nslq5u"
      }
    },
    {
      "cell_type": "code",
      "execution_count": null,
      "metadata": {
        "id": "fBeIeE_UtEfo",
        "cellView": "form"
      },
      "outputs": [],
      "source": [
        "#@title download\n",
        "base_url = 'https://nvd.nist.gov/feeds/json/cve/1.1/nvdcve-1.1-%d.json.zip'\n",
        "last_year = 2023\n",
        "for year in range(2002, last_year+1):\n",
        "  get_url = base_url % year\n",
        "  !wget $get_url"
      ]
    },
    {
      "cell_type": "code",
      "source": [
        "#@title unzip\n",
        "base_file = 'nvdcve-1.1-%d.json.zip'\n",
        "last_year = 2023\n",
        "for year in range(2002, last_year+1):\n",
        "  zip_file = base_file % year\n",
        "  !unzip $zip_file -d '/content/nvdcves'"
      ],
      "metadata": {
        "id": "Kl9Ggs59uoep",
        "cellView": "form"
      },
      "execution_count": null,
      "outputs": []
    },
    {
      "cell_type": "code",
      "source": [
        "#@title project parsers\n",
        "import re\n",
        "class Parser():\n",
        "  def __init__(self, github, regex_with_commit_group_number_list):\n",
        "    self.github = github\n",
        "    self.regex_list = [(re.compile(reg_group[0]), reg_group[1]) for reg_group in regex_with_commit_group_number_list]\n",
        "\n",
        "  def checkUrl(self, url):\n",
        "    for reg_group in self.regex_list:\n",
        "      result = reg_group[0].match(url)\n",
        "      if result:\n",
        "        return result.group(reg_group[1])\n",
        "    return None\n",
        "\n",
        "All_Parsers = {\n",
        "'linux_kernel' : Parser(\"https://github.com/torvalds/linux\",\n",
        "                      [(\".*?(github\\\\.com/torvalds/linux|git\\\\.kernel\\\\.org).*?(commit)+.*?(id\\\\=|h\\\\=|/)+([a-f0-9]{40}|[a-f0-9]{8})\",\n",
        "            4)]),\n",
        "\n",
        "'openssl' : Parser(\"https://github.com/openssl/openssl\",\n",
        "                      [(\".*?(git\\\\.openssl\\\\.org).*?(commit).*?(id\\\\=|h\\\\=)+([a-f0-9]{40}|[a-f0-9]{8})\",\n",
        "            4)]),\n",
        "\n",
        "'wireshark' : Parser(\"https://github.com/wireshark/wireshark\",\n",
        "                      [(\".*?(github\\\\.com|code\\\\.wireshark\\\\.org).*?(wireshark/commit/|a=commit;h\\\\=)([a-f0-9]{40}|[a-f0-9]{8})\",\n",
        "            3)])\n",
        "}\n",
        "\n"
      ],
      "metadata": {
        "id": "NCo5FRPszZF4",
        "cellView": "form"
      },
      "execution_count": null,
      "outputs": []
    },
    {
      "cell_type": "code",
      "source": [
        "#@title read and extract\n",
        "import json\n",
        "base_json = '/content/nvdcves/nvdcve-1.1-%d.json'\n",
        "all_commits = {}\n",
        "for project in All_Parsers:\n",
        "  all_commits[project] = []\n",
        "expected_len = 40 #len('01ca667133d019edc9f0a1f70a272447c84ec41f')\n",
        "last_year = 2023\n",
        "for year in range(2002, last_year+1):\n",
        "  print(year)\n",
        "  with open(base_json % year, 'r') as f:\n",
        "    data = json.loads(f.read())\n",
        "  for cve in data['CVE_Items']:\n",
        "    commit_id = None\n",
        "    for ref in cve['cve']['references']['reference_data']:\n",
        "      if 'Patch' in ref['tags']:\n",
        "        for project, parser in All_Parsers.items():\n",
        "          commit_id = parser.checkUrl(ref['url'])\n",
        "          if commit_id:\n",
        "              all_commits[project].append((commit_id, cve['cve']['CVE_data_meta']['ID'])) # keep the commit id\n",
        "              break\n",
        "        if commit_id:\n",
        "          break\n",
        "\n",
        "\n",
        "for project in all_commits:\n",
        "  print(project, len(all_commits[project])) # print number of commits per projects, before removing duplicates\n",
        "\n",
        "print('Removing duplicates...')\n",
        "# removes duplicates\n",
        "for project in all_commits:\n",
        "  all_commits[project] = list(set(all_commits[project]))\n",
        "\n",
        "for project in all_commits:\n",
        "  print(project, len(all_commits[project])) # print number of commits per projects, before removing duplicates\n"
      ],
      "metadata": {
        "id": "BCrXx1k_vWRX",
        "cellView": "form"
      },
      "execution_count": null,
      "outputs": []
    },
    {
      "cell_type": "code",
      "source": [
        "#@title save\n",
        "with open('nvdcve_commits_dataset.json', 'w') as f:\n",
        "  json.dump(all_commits,f,indent=4)"
      ],
      "metadata": {
        "id": "wVBN4I8jEW6o",
        "cellView": "form"
      },
      "execution_count": null,
      "outputs": []
    },
    {
      "cell_type": "markdown",
      "source": [
        "##Convertion for V-SZZ + only keep linux-kernel"
      ],
      "metadata": {
        "id": "LQm1R2WRlwP0"
      }
    },
    {
      "cell_type": "code",
      "source": [
        "#@title convert and split dataset\n",
        "import numpy as np\n",
        "import json\n",
        "\n",
        "OUTPUT_FILE = 'inputs.json'\n",
        "\n",
        "data = None\n",
        "with open('/content/nvdcve_commits_dataset.json', 'r') as f:\n",
        "  data = json.load(f)\n",
        "\n",
        "linux_data = [cve[0] for cve in data['linux_kernel']]\n",
        "outputs = []\n",
        "for split_data in np.array_split(linux_data,4):\n",
        "  outputs.append(['linux_kernel', 'torvalds/linux', split_data.tolist(), []])\n",
        "with open(OUTPUT_FILE, 'w') as out:\n",
        "  json.dump(outputs, out, indent=4)\n",
        "\n",
        "print('saved to', OUTPUT_FILE)\n"
      ],
      "metadata": {
        "id": "VS3bHexhTbqk",
        "cellView": "form"
      },
      "execution_count": null,
      "outputs": []
    }
  ]
}